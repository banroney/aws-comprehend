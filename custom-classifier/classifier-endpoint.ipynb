{
 "cells": [
  {
   "cell_type": "markdown",
   "metadata": {},
   "source": [
    "### Create an endpoint for realtime predictions"
   ]
  },
  {
   "cell_type": "code",
   "execution_count": null,
   "metadata": {},
   "outputs": [],
   "source": [
    "import os\n",
    "import pandas as pd\n",
    "import boto3\n",
    "import json"
   ]
  },
  {
   "cell_type": "markdown",
   "metadata": {},
   "source": [
    "Please set the following values correctly before proceeding further"
   ]
  },
  {
   "cell_type": "code",
   "execution_count": null,
   "metadata": {},
   "outputs": [],
   "source": [
    "region = 'us-east-1'\n",
    "role_arn = 'arn:aws:iam::951145066533:role/service-role/AmazonComprehendServiceRole-_908203_cmpd'\n",
    "model_arn = 'arn:aws:comprehend:us-east-1:951145066533:document-classifier/BBCNewsDataClassifier'\n",
    "endpoint_name = 'BBCNewsDataClassifierEditorial'\n",
    "test_file_src = 'sample_news.txt'"
   ]
  },
  {
   "cell_type": "code",
   "execution_count": null,
   "metadata": {},
   "outputs": [],
   "source": [
    "client = boto3.client('comprehend', region_name='us-east-1')\n",
    "list_response = client.list_document_classifiers()\n",
    "for item in list_response['DocumentClassifierPropertiesList']:\n",
    "    eval_metrics = item['ClassifierMetadata']['EvaluationMetrics']\n",
    "    print('{}:\\n Precision {} Recall {} Accuracy {} F1 {}'.format(item['DocumentClassifierArn'],\n",
    "                                                         eval_metrics['Precision'],\n",
    "                                                         eval_metrics['Recall'],\n",
    "                                                         eval_metrics['Accuracy'],\n",
    "                                                         eval_metrics['F1Score']\n",
    "                                                        )\n",
    "         )"
   ]
  },
  {
   "cell_type": "code",
   "execution_count": null,
   "metadata": {},
   "outputs": [],
   "source": [
    "model_document_classifier_arn = client.create_endpoint(\n",
    "    DesiredInferenceUnits = 1,\n",
    "    EndpointName = endpoint_name,\n",
    "    ModelArn = model_arn\n",
    ")\n",
    "model_document_classifier_arn"
   ]
  },
  {
   "cell_type": "code",
   "execution_count": null,
   "metadata": {},
   "outputs": [],
   "source": [
    "endpoint_details = client.describe_endpoint(\n",
    "    EndpointArn = model_document_classifier_arn['EndpointArn']\n",
    ")"
   ]
  },
  {
   "cell_type": "code",
   "execution_count": null,
   "metadata": {},
   "outputs": [],
   "source": [
    "text_to_predicted = open(test_file_src,encoding=\"cp1252\").read()\n",
    "\n",
    "response = client.classify_document(\n",
    "    EndpointArn = endpoint_details['EndpointProperties']['EndpointArn'],\n",
    "    Text = text_to_predicted\n",
    ")\n",
    "print(\"The predicted class for the document is {}\".format(response['Classes'][0]['Name']))"
   ]
  },
  {
   "cell_type": "code",
   "execution_count": null,
   "metadata": {},
   "outputs": [],
   "source": []
  }
 ],
 "metadata": {
  "kernelspec": {
   "display_name": "conda_python3",
   "language": "python",
   "name": "conda_python3"
  },
  "language_info": {
   "codemirror_mode": {
    "name": "ipython",
    "version": 3
   },
   "file_extension": ".py",
   "mimetype": "text/x-python",
   "name": "python",
   "nbconvert_exporter": "python",
   "pygments_lexer": "ipython3",
   "version": "3.6.5"
  }
 },
 "nbformat": 4,
 "nbformat_minor": 4
}
