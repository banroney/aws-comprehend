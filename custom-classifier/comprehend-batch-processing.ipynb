{
 "cells": [
  {
   "cell_type": "markdown",
   "metadata": {},
   "source": [
    "### Comprehend Batch Processing"
   ]
  },
  {
   "cell_type": "markdown",
   "metadata": {},
   "source": [
    "In order to scale your job loads, batch processing is very useful. For eg, if you have a load of 10,000 documents, its best to break in into 25 batches of 400 documents each. The example below demonstrates how to do batch job processing."
   ]
  },
  {
   "cell_type": "code",
   "execution_count": 15,
   "metadata": {},
   "outputs": [],
   "source": [
    "!rm -rf batch_data*\n",
    "!mkdir batch_data"
   ]
  },
  {
   "cell_type": "code",
   "execution_count": null,
   "metadata": {},
   "outputs": [],
   "source": [
    "region = 'us-east-1'\n",
    "role_arn = 'arn:aws:iam::951145066533:role/service-role/AmazonComprehendServiceRole-_908203_cmpd'\n",
    "model_arn = 'arn:aws:comprehend:us-east-1:951145066533:document-classifier/BBCNewsDataClassifier'\n",
    "source_file = \"Articles.csv\"\n",
    "bucket_prefix = 'batch_data'\n",
    "bucket_name = 'comprehend-demo-20200602'"
   ]
  },
  {
   "cell_type": "code",
   "execution_count": 12,
   "metadata": {},
   "outputs": [],
   "source": [
    "import os\n",
    "import pandas as pd\n",
    "import boto3\n",
    "import json\n",
    "import datetime"
   ]
  },
  {
   "cell_type": "code",
   "execution_count": 17,
   "metadata": {},
   "outputs": [],
   "source": [
    "df = pd.DataFrame()\n",
    "mapping = {}\n"
   ]
  },
  {
   "cell_type": "code",
   "execution_count": 50,
   "metadata": {},
   "outputs": [],
   "source": [
    "colnames=['Article']\n",
    "articles = pd.read_csv(source_file, encoding='cp1252',delimiter=',',header=0,names=colnames,usecols=[0,0])"
   ]
  },
  {
   "cell_type": "code",
   "execution_count": 51,
   "metadata": {},
   "outputs": [
    {
     "name": "stdout",
     "output_type": "stream",
     "text": [
      "(2692, 1)\n"
     ]
    },
    {
     "data": {
      "text/html": [
       "<div>\n",
       "<style scoped>\n",
       "    .dataframe tbody tr th:only-of-type {\n",
       "        vertical-align: middle;\n",
       "    }\n",
       "\n",
       "    .dataframe tbody tr th {\n",
       "        vertical-align: top;\n",
       "    }\n",
       "\n",
       "    .dataframe thead th {\n",
       "        text-align: right;\n",
       "    }\n",
       "</style>\n",
       "<table border=\"1\" class=\"dataframe\">\n",
       "  <thead>\n",
       "    <tr style=\"text-align: right;\">\n",
       "      <th></th>\n",
       "      <th>Article</th>\n",
       "    </tr>\n",
       "  </thead>\n",
       "  <tbody>\n",
       "    <tr>\n",
       "      <th>0</th>\n",
       "      <td>KARACHI: The Sindh government has decided to b...</td>\n",
       "    </tr>\n",
       "    <tr>\n",
       "      <th>1</th>\n",
       "      <td>HONG KONG: Asian markets started 2015 on an up...</td>\n",
       "    </tr>\n",
       "    <tr>\n",
       "      <th>2</th>\n",
       "      <td>HONG KONG:  Hong Kong shares opened 0.66 perce...</td>\n",
       "    </tr>\n",
       "    <tr>\n",
       "      <th>3</th>\n",
       "      <td>HONG KONG: Asian markets tumbled Tuesday follo...</td>\n",
       "    </tr>\n",
       "    <tr>\n",
       "      <th>4</th>\n",
       "      <td>NEW YORK: US oil prices Monday slipped below $...</td>\n",
       "    </tr>\n",
       "  </tbody>\n",
       "</table>\n",
       "</div>"
      ],
      "text/plain": [
       "                                             Article\n",
       "0  KARACHI: The Sindh government has decided to b...\n",
       "1  HONG KONG: Asian markets started 2015 on an up...\n",
       "2  HONG KONG:  Hong Kong shares opened 0.66 perce...\n",
       "3  HONG KONG: Asian markets tumbled Tuesday follo...\n",
       "4  NEW YORK: US oil prices Monday slipped below $..."
      ]
     },
     "execution_count": 51,
     "metadata": {},
     "output_type": "execute_result"
    }
   ],
   "source": [
    "print(articles.shape)\n",
    "articles.head()"
   ]
  },
  {
   "cell_type": "code",
   "execution_count": 55,
   "metadata": {},
   "outputs": [],
   "source": [
    "articles.to_csv('preprocessed_artices.csv',encoding='utf-8',header=None,index=False)"
   ]
  },
  {
   "cell_type": "markdown",
   "metadata": {},
   "source": [
    "Breakdown the file into batches of 25"
   ]
  },
  {
   "cell_type": "code",
   "execution_count": 58,
   "metadata": {},
   "outputs": [],
   "source": [
    "s3 = boto3.client('s3')\n",
    "comprehend = boto3.client('comprehend')"
   ]
  },
  {
   "cell_type": "code",
   "execution_count": 60,
   "metadata": {},
   "outputs": [
    {
     "name": "stdout",
     "output_type": "stream",
     "text": [
      "arn:aws:comprehend:us-east-1:951145066533:document-classifier/BBCSampleDataClassifier:\n",
      " Precision 0.9935 Recall 0.9933 Accuracy 0.9933 F1 0.9933\n",
      "arn:aws:comprehend:us-east-1:951145066533:document-classifier/BBCTestDataClassifier:\n",
      " Precision 0.9735 Recall 0.9733 Accuracy 0.9733 F1 0.9732\n",
      "arn:aws:comprehend:us-east-1:951145066533:document-classifier/BBCNewsDataClassifier:\n",
      " Precision 0.9541 Recall 0.9533 Accuracy 0.9533 F1 0.9532\n",
      "arn:aws:comprehend:us-east-1:951145066533:document-classifier/BBCWorldNewsDataClassifier:\n",
      " Precision 0.9806 Recall 0.98 Accuracy 0.98 F1 0.98\n"
     ]
    }
   ],
   "source": [
    "# List all classifiers in account\n",
    "list_response = comprehend.list_document_classifiers()\n",
    "for item in list_response['DocumentClassifierPropertiesList']:\n",
    "    eval_metrics = item['ClassifierMetadata']['EvaluationMetrics']\n",
    "    print('{}:\\n Precision {} Recall {} Accuracy {} F1 {}'.format(item['DocumentClassifierArn'],\n",
    "                                                         eval_metrics['Precision'],\n",
    "                                                         eval_metrics['Recall'],\n",
    "                                                         eval_metrics['Accuracy'],\n",
    "                                                         eval_metrics['F1Score']\n",
    "                                                        )\n",
    "         )"
   ]
  },
  {
   "cell_type": "code",
   "execution_count": 61,
   "metadata": {},
   "outputs": [],
   "source": [
    "model_arn='arn:aws:comprehend:us-east-1:951145066533:document-classifier/BBCSampleDataClassifier'"
   ]
  },
  {
   "cell_type": "code",
   "execution_count": null,
   "metadata": {},
   "outputs": [],
   "source": []
  }
 ],
 "metadata": {
  "kernelspec": {
   "display_name": "conda_python3",
   "language": "python",
   "name": "conda_python3"
  },
  "language_info": {
   "codemirror_mode": {
    "name": "ipython",
    "version": 3
   },
   "file_extension": ".py",
   "mimetype": "text/x-python",
   "name": "python",
   "nbconvert_exporter": "python",
   "pygments_lexer": "ipython3",
   "version": "3.6.5"
  }
 },
 "nbformat": 4,
 "nbformat_minor": 4
}
